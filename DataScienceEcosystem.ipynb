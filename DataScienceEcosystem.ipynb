{
 "cells": [
  {
   "cell_type": "markdown",
   "id": "f32600c5-22c5-45d3-9e3b-a5b8147c0865",
   "metadata": {},
   "source": [
    "# Data Science Tools and Ecosystem"
   ]
  },
  {
   "cell_type": "markdown",
   "id": "b2c0c89a-b3e9-440b-97b2-07c69dc88fec",
   "metadata": {},
   "source": [
    "In this notebook, Data Science Tools and Ecosystem are summarized."
   ]
  },
  {
   "cell_type": "markdown",
   "id": "cbc8f244-e146-4f8b-b9ec-295735130c8d",
   "metadata": {},
   "source": [
    "**Objectives:**\n",
    "\n",
    "- List popular languages for Data Science  \n",
    "- Identify commonly used libraries in Data Science  \n",
    "- Work with markdown and code cells in Jupyter  \n",
    "- Evaluate arithmetic expressions using Python  \n",
    "- Create and share notebooks via GitHub\n"
   ]
  },
  {
   "cell_type": "markdown",
   "id": "672942e5-21f7-4008-a224-764465548eb1",
   "metadata": {},
   "source": [
    "## Author\n",
    "\n",
    "David Njenga Wacuka\n",
    "\n"
   ]
  },
  {
   "cell_type": "markdown",
   "id": "5fa85c2b-67ad-46a4-b195-e0d4c37ab5a3",
   "metadata": {},
   "source": [
    "Some of the popular languages that Data Scientists use are:\n",
    "\n",
    "1. Python  \n",
    "2. R  \n",
    "3. SQL  \n",
    "4. Julia\n"
   ]
  },
  {
   "cell_type": "markdown",
   "id": "4e523e5b-82a8-45b4-a30b-d278a4687400",
   "metadata": {},
   "source": [
    "Some of the commonly used libraries used by Data Scientists include:\n",
    "\n",
    "1. Pandas  \n",
    "2. NumPy  \n",
    "3. Matplotlib  \n",
    "4. Scikit-learn\n"
   ]
  },
  {
   "cell_type": "markdown",
   "id": "a22e6e73-f9f7-49a2-a05a-3d7c197fca75",
   "metadata": {},
   "source": [
    "| Data Science Tools        |\n",
    "|---------------------------|\n",
    "| Jupyter Notebook          |\n",
    "| RStudio                   |\n",
    "| Apache Zeppelin           |\n"
   ]
  },
  {
   "cell_type": "markdown",
   "id": "d70c1aa2-f9fc-4448-b0c1-332a9696b087",
   "metadata": {},
   "source": [
    "### Below are a few examples of evaluating arithmetic expressions in Python.\n"
   ]
  },
  {
   "cell_type": "code",
   "execution_count": 4,
   "id": "044142f9-6700-4f40-9d9a-17cfd40e12a6",
   "metadata": {},
   "outputs": [
    {
     "data": {
      "text/plain": [
       "17"
      ]
     },
     "execution_count": 4,
     "metadata": {},
     "output_type": "execute_result"
    }
   ],
   "source": [
    "# This a simple arithmetic expression to multiply then add integers\n",
    "(3 * 4) + 5\n"
   ]
  },
  {
   "cell_type": "code",
   "execution_count": 5,
   "id": "d585ca72-2d7e-4ef7-a519-46b0268554cc",
   "metadata": {},
   "outputs": [
    {
     "data": {
      "text/plain": [
       "3.3333333333333335"
      ]
     },
     "execution_count": 5,
     "metadata": {},
     "output_type": "execute_result"
    }
   ],
   "source": [
    "# This will convert 200 minutes to hours by diving by 60\n",
    "200 / 60\n"
   ]
  }
 ],
 "metadata": {
  "kernelspec": {
   "display_name": "Python [conda env:base] *",
   "language": "python",
   "name": "conda-base-py"
  },
  "language_info": {
   "codemirror_mode": {
    "name": "ipython",
    "version": 3
   },
   "file_extension": ".py",
   "mimetype": "text/x-python",
   "name": "python",
   "nbconvert_exporter": "python",
   "pygments_lexer": "ipython3",
   "version": "3.12.7"
  }
 },
 "nbformat": 4,
 "nbformat_minor": 5
}
